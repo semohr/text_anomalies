{
 "cells": [
  {
   "cell_type": "markdown",
   "metadata": {},
   "source": [
    "# Finetune model on Old English Electronic Corpus"
   ]
  },
  {
   "cell_type": "markdown",
   "metadata": {},
   "source": [
    "## Data\n",
    "\n",
    "We load the electronic corpus of Old English using a custome Dataset class (see `text_anomalies/dataloader.py`)."
   ]
  },
  {
   "cell_type": "code",
   "execution_count": 1,
   "metadata": {},
   "outputs": [
    {
     "name": "stderr",
     "output_type": "stream",
     "text": [
      "/data.nst/smohr/anaconda3/envs/text_anomalies/lib/python3.9/site-packages/tqdm/auto.py:22: TqdmWarning: IProgress not found. Please update jupyter and ipywidgets. See https://ipywidgets.readthedocs.io/en/stable/user_install.html\n",
      "  from .autonotebook import tqdm as notebook_tqdm\n"
     ]
    }
   ],
   "source": [
    "import sys\n",
    "sys.path.append(\"../\")\n",
    "import text_anomalies as ta\n",
    "\n",
    "sentences = ta.OldEnglishDataset(\"../data/doec.parquet\")"
   ]
  },
  {
   "cell_type": "code",
   "execution_count": 2,
   "metadata": {},
   "outputs": [],
   "source": [
    "# Split into train, validation, and test sets\n",
    "from torch.utils.data import random_split\n",
    "\n",
    "split = [0.8, 0.1, 0.1]\n",
    "\n",
    "train, val, test = random_split(\n",
    "    sentences, \n",
    "    split,\n",
    ")"
   ]
  },
  {
   "cell_type": "markdown",
   "metadata": {},
   "source": [
    "### Explore the dataset"
   ]
  },
  {
   "cell_type": "code",
   "execution_count": 3,
   "metadata": {},
   "outputs": [
    {
     "name": "stdout",
     "output_type": "stream",
     "text": [
      "Total: 161801 sentences\n",
      "Train: 161801 sentences\n",
      "Validation: 20225 sentences\n",
      "Test: 20225 sentences\n"
     ]
    }
   ],
   "source": [
    "# How many samples are included in the dataset?\n",
    "print(f\"Total: {len(train)} sentences\")\n",
    "print(f\"Train: {len(train)} sentences\")\n",
    "print(f\"Validation: {len(val)} sentences\")\n",
    "print(f\"Test: {len(test)} sentences\")"
   ]
  },
  {
   "cell_type": "code",
   "execution_count": 17,
   "metadata": {},
   "outputs": [
    {
     "data": {
      "image/png": "[encoded data removed]",
      "text/plain": [
       "<Figure size 450x500 with 2 Axes>"
      ]
     },
     "metadata": {},
     "output_type": "display_data"
    }
   ],
   "source": [
    "# Visualize the length of the sentences in characters\n",
    "# Visualize the length of the sentences in tokens\n",
    "import matplotlib.pyplot as plt\n",
    "\n",
    "# Calculate the length of each sentence\n",
    "lengths_char = [len(sentence) for sentence in sentences]\n",
    "lengths_token = [len(sentence.split(\" \")) for sentence in sentences]\n",
    "\n",
    "# Plot \n",
    "fig, axes = plt.subplots(2,1, figsize=(4.5, 5))\n",
    "fig.supylabel(\"Number of sentences\")\n",
    "axes[0].set_xlabel(\"Number of characters\")\n",
    "axes[0].set_xlim(0, 600)\n",
    "axes[0].hist(lengths_char, bins=200)\n",
    "\n",
    "axes[1].set_xlabel(\"Number of tokens\")\n",
    "axes[1].set_xlim(0, 80)\n",
    "axes[1].hist(lengths_token, bins=100);\n",
    "\n",
    "# k formatter for y-axis add k \n",
    "from matplotlib.ticker import FuncFormatter\n",
    "axes[0].yaxis.set_major_formatter(\n",
    "    FuncFormatter(lambda y, _: '{:.0f}k'.format(y/1000))\n",
    ")\n",
    "axes[1].yaxis.set_major_formatter(\n",
    "    FuncFormatter(lambda y, _: '{:.0f}k'.format(y/1000))\n",
    ")\n",
    "\n",
    "fig.set_tight_layout(True)"
   ]
  },
  {
   "cell_type": "markdown",
   "metadata": {},
   "source": [
    "## Training method\n",
    "\n",
    "As we use a different language from the existing ones in the model, we need to finetune the model on the Old English corpus.\n",
    "\n",
    "Here we need to train the tokenizer and the model on the Old English corpus.\n",
    "\n",
    "### Tokenizer\n",
    "\n",
    "- Break words into subwords\n",
    "- Add special tokens (end, begin, padding)\n",
    "\n",
    "### Model\n",
    "\n",
    "\n",
    "\n",
    "\n",
    "Here we define old functions needed for training and validating the model. We opt to use some tpyical implementations.\n",
    "\n",
    "- Adam optimizer\n",
    "- Cross entropy loss\n",
    "- Learning rate scheduler (reduce on plateau)\n",
    "- Early stopping\n",
    "\n",
    "We split the data into training and validation sets. The training set is used to train the model, and the validation set is used to validate the model. The validation set is used to prevent overfitting. We use 15% of the data as the validation set.\n"
   ]
  },
  {
   "cell_type": "code",
   "execution_count": null,
   "metadata": {},
   "outputs": [],
   "source": [
    "import fastprogress\n",
    "\n",
    "def train(dataloader, optimizer, model, loss_fn, device, master_bar):\n",
    "    \"\"\"Run one training epoch.\n",
    "\n",
    "    Args:\n",
    "        dataloader (DataLoader): Torch DataLoader object to load data\n",
    "        optimizer: Torch optimizer object\n",
    "        model (nn.Module): Torch model to train\n",
    "        loss_fn: Torch loss function\n",
    "        device (torch.device): Torch device to use for training\n",
    "        master_bar (fastprogress.master_bar): Will be iterated over for each\n",
    "            epoch to draw batches and display training progress\n",
    "\n",
    "    Returns:\n",
    "        float, float: Mean loss of this epoch, fraction of correct predictions\n",
    "            on training set (accuracy)\n",
    "    \"\"\"\n",
    "    epoch_loss = []\n",
    "    epoch_correct, epoch_total = 0, 0\n",
    "\n",
    "    for features, labels, attention_masks in fastprogress.progress_bar(dataloader, parent=master_bar):\n",
    "        optimizer.zero_grad()\n",
    "        model.train()\n",
    "\n",
    "        # Get data from dataloader\n",
    "        features = features.to(device)\n",
    "        labels = labels.to(device)\n",
    "      \n",
    "        # Forward pass\n",
    "        if model.with_attention_masks:\n",
    "          labels_pred = model(features, attention_masks.to(device))\n",
    "        else:\n",
    "          labels_pred = model(features)\n",
    "\n",
    "        # For calculating the accuracy, save the number of correctly classified \n",
    "        # texts and the total number\n",
    "        epoch_correct += sum(labels == labels_pred.argmax(dim=-1))\n",
    "        epoch_total += len(labels)\n",
    "\n",
    "        # Compute loss\n",
    "        loss = loss_fn(labels_pred, labels)\n",
    "\n",
    "        # Backward pass\n",
    "        loss.backward()\n",
    "        optimizer.step()\n",
    "\n",
    "        # For plotting the train loss, save it for each sample\n",
    "        epoch_loss.append(loss.item())\n",
    "\n",
    "    # Return the mean loss and the accuracy of this epoch\n",
    "    return np.mean(epoch_loss), accuracy(epoch_correct, epoch_total)\n"
   ]
  }
 ],
 "metadata": {
  "kernelspec": {
   "display_name": "Python 3.9.15 ('text_anomalies')",
   "language": "python",
   "name": "python3"
  },
  "language_info": {
   "codemirror_mode": {
    "name": "ipython",
    "version": 3
   },
   "file_extension": ".py",
   "mimetype": "text/x-python",
   "name": "python",
   "nbconvert_exporter": "python",
   "pygments_lexer": "ipython3",
   "version": "3.9.15"
  },
  "orig_nbformat": 4,
  "vscode": {
   "interpreter": {
    "hash": "1a22d7e29675f8fd1b549096d8db37fbe830e61846580ec329cc10f0122cf140"
   }
  }
 },
 "nbformat": 4,
 "nbformat_minor": 2
}
