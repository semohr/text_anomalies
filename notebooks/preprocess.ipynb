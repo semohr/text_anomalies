{
 "cells": [
  {
   "cell_type": "markdown",
   "metadata": {},
   "source": [
    "# Data preprocessing\n",
    "\n",
    "As the data is not in the desired format for training, we need to preprocess it. The data is in the form of html files, which I want to convert to csv files in the following.\n"
   ]
  },
  {
   "cell_type": "code",
   "execution_count": 1,
   "metadata": {},
   "outputs": [],
   "source": [
    "import os\n",
    "ROOT = \"../data/doec\"\n",
    "\n",
    "# Create \"proccessed\" dir if it doesn't exist\n",
    "if not os.path.exists(os.path.join(ROOT, \"processed\")):\n",
    "    os.mkdir(os.path.join(ROOT, \"processed\"))\n"
   ]
  },
  {
   "cell_type": "code",
   "execution_count": 2,
   "metadata": {},
   "outputs": [],
   "source": [
    "# Get all files from the \"html\" dir\n",
    "files = os.listdir(os.path.join(ROOT, \"html\"))\n",
    "\n",
    "# Filter all files starting with T\n",
    "files = [f for f in files if f.startswith(\"T\")]\n",
    "files.sort()"
   ]
  },
  {
   "cell_type": "code",
   "execution_count": 4,
   "metadata": {},
   "outputs": [],
   "source": [
    "import re\n",
    "import pandas as pd\n",
    "\n",
    "# Regex match the everything inside the square brackets\n",
    "regex = re.compile(r\"\\[.*\\]\")\n",
    "def split_text(text):\n",
    "    \"\"\"\n",
    "    Split text into id and text\n",
    "    \"\"\"\n",
    "\n",
    "    try:\n",
    "       id = regex.findall(text)[0].strip()\n",
    "    except:\n",
    "        print(text) \n",
    "\n",
    "    id = regex.findall(text)[0].strip()\n",
    "\n",
    "    text = regex.sub(\"\", text).strip()\n",
    "\n",
    "    return id, text\n",
    "\n",
    "from html.parser import HTMLParser\n",
    "\n",
    "class MyHTMLParser(HTMLParser):\n",
    "    def __init__(self):\n",
    "        super().__init__()\n",
    "        self.data = []\n",
    "        self.next_entry = False\n",
    "\n",
    "    def handle_starttag(self, tag, attrs):\n",
    "        if tag == \"p\":\n",
    "            self.next_entry = True\n",
    "        elif tag == \"img\":\n",
    "            # Get src\n",
    "            self.next_entry = False\n",
    "            src = [attr[1] for attr in attrs if attr[0] == \"src\"][0]\n",
    "            self.data[-1] += f\"<{src}>\"\n",
    "        else:\n",
    "            self.next_entry = False\n",
    "\n",
    "    def handle_data(self, data):\n",
    "        data = data.strip()\n",
    "        if not data:\n",
    "            return\n",
    "        if self.next_entry:\n",
    "            self.data.append(data)\n",
    "        else:\n",
    "            self.data[-1] += data\n",
    "\n",
    "    def feed(self, data: str) -> None:\n",
    "        super().feed(data)\n",
    "        return self.data\n",
    "\n",
    "def parse_file(file_path:str):\n",
    "    \"\"\"\n",
    "    Parse html file and return a list of tuples (id, text)\n",
    "    \"\"\"\n",
    "    with open(os.path.join(ROOT,\"html\",file_path), \"r\") as f:\n",
    "        text = f.read()\n",
    "        text = text.split(\"<hr>\")[1]\n",
    "\n",
    "    parser = MyHTMLParser()\n",
    "    data = parser.feed(text)\n",
    "\n",
    "    data = [split_text(d) for d in data]\n",
    "\n",
    "    return pd.DataFrame(data, columns=[\"id\", \"text\"])\n",
    "\n",
    "\n",
    "# Parse all files\n",
    "data = []\n",
    "for file in files:\n",
    "    df = parse_file(file)\n",
    "    df[\"filename\"] = file\n",
    "    data.append(df)\n",
    "\n",
    "# Concatenate all dataframes\n",
    "data = pd.concat(data, ignore_index=True)\n",
    "\n",
    "# Save as parquet\n",
    "data.to_parquet(\"../data/doec.parquet\")\n"
   ]
  },
  {
   "cell_type": "code",
   "execution_count": 9,
   "metadata": {},
   "outputs": [
    {
     "data": {
      "text/plain": [
       "'Us is riht micel ðæt we rodera weard, wereda wuldorcining, wordum herigen, modum lufien.'"
      ]
     },
     "execution_count": 9,
     "metadata": {},
     "output_type": "execute_result"
    }
   ],
   "source": [
    "data[\"text\"][0]"
   ]
  },
  {
   "cell_type": "code",
   "execution_count": null,
   "metadata": {},
   "outputs": [],
   "source": []
  },
  {
   "cell_type": "code",
   "execution_count": 65,
   "metadata": {},
   "outputs": [
    {
     "data": {
      "text/plain": [
       "[]"
      ]
     },
     "execution_count": 65,
     "metadata": {},
     "output_type": "execute_result"
    }
   ],
   "source": [
    "# Match a number with a unit\n",
    "regex = re.compile(r\"\\[[\\d\\.*\\d]+\\s*\\([\\d\\.*\\d]+[a-zA-Z]*\\)\\]\")\n",
    "regex.findall(\"1.0 [1.00 (1111.2a)] [1 (111.11445)]\")"
   ]
  },
  {
   "cell_type": "code",
   "execution_count": 67,
   "metadata": {},
   "outputs": [
    {
     "data": {
      "text/plain": [
       "['[1.00 (1111.2a)] [1 (111.11445)]']"
      ]
     },
     "execution_count": 67,
     "metadata": {},
     "output_type": "execute_result"
    }
   ],
   "source": [
    "# Regex match the everything inside the square brackets\n",
    "regex = re.compile(r\"\\[.*\\]\")\n",
    "regex.findall(\"1.0 [1.00 (1111.2a)] [1 (111.11445)]\")"
   ]
  },
  {
   "cell_type": "code",
   "execution_count": null,
   "metadata": {},
   "outputs": [],
   "source": []
  }
 ],
 "metadata": {
  "kernelspec": {
   "display_name": "Python 3.9.15 ('text_anomalies')",
   "language": "python",
   "name": "python3"
  },
  "language_info": {
   "codemirror_mode": {
    "name": "ipython",
    "version": 3
   },
   "file_extension": ".py",
   "mimetype": "text/x-python",
   "name": "python",
   "nbconvert_exporter": "python",
   "pygments_lexer": "ipython3",
   "version": "3.9.15"
  },
  "orig_nbformat": 4,
  "vscode": {
   "interpreter": {
    "hash": "1a22d7e29675f8fd1b549096d8db37fbe830e61846580ec329cc10f0122cf140"
   }
  }
 },
 "nbformat": 4,
 "nbformat_minor": 2
}
