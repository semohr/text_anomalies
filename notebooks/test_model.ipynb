{
 "cells": [
  {
   "cell_type": "code",
   "execution_count": 28,
   "metadata": {},
   "outputs": [
    {
     "name": "stdout",
     "output_type": "stream",
     "text": [
      "The autoreload extension is already loaded. To reload it, use:\n",
      "  %reload_ext autoreload\n"
     ]
    }
   ],
   "source": [
    "import sys\n",
    "sys.path.append(\"../\")\n",
    "%load_ext autoreload\n",
    "%autoreload 2\n",
    "\n",
    "import torch\n",
    "import numpy as np\n",
    "from text_anomalies.model import VAE, SSVAE\n",
    "\n",
    "\n",
    "device = torch.device(\"cuda\" if torch.cuda.is_available() else \"cpu\")\n",
    "model = VAE(1000,300, device=device)\n",
    "model2 = SSVAE(\n",
    "    vocab_size=1000,\n",
    "    y_size=5,\n",
    "    embedding_size=300,\n",
    "    hidden_size=256,\n",
    "    latent_size=16,\n",
    "    device=device,\n",
    ")\n",
    "\n"
   ]
  },
  {
   "cell_type": "code",
   "execution_count": 2,
   "metadata": {},
   "outputs": [
    {
     "name": "stdout",
     "output_type": "stream",
     "text": [
      "SSVAE(\n",
      "  (embedding): Embedding(1000, 300)\n",
      "  (encoder): Encoder(\n",
      "    (rnn): RNN(300, 256, num_layers=2, batch_first=True)\n",
      "  )\n",
      "  (pre_decoder): Sequential(\n",
      "    (0): Linear(in_features=21, out_features=256, bias=True)\n",
      "    (1): ReLU()\n",
      "    (2): Linear(in_features=256, out_features=256, bias=True)\n",
      "    (3): ReLU()\n",
      "    (4): Linear(in_features=256, out_features=16, bias=True)\n",
      "  )\n",
      "  (decoder): Decoder(\n",
      "    (latent_to_hidden): Linear(in_features=16, out_features=512, bias=True)\n",
      "    (rnn): RNN(300, 256, num_layers=2, batch_first=True)\n",
      "    (output): Linear(in_features=256, out_features=1000, bias=True)\n",
      "  )\n",
      "  (y_predict): Sequential(\n",
      "    (0): Linear(in_features=256, out_features=256, bias=True)\n",
      "    (1): ReLU()\n",
      "    (2): Linear(in_features=256, out_features=256, bias=True)\n",
      "    (3): ReLU()\n",
      "    (4): Linear(in_features=256, out_features=5, bias=True)\n",
      "  )\n",
      "  (lambd): Lambda(\n",
      "    (hidden_to_mean): Linear(in_features=256, out_features=16, bias=True)\n",
      "    (hidden_to_logvar): Linear(in_features=256, out_features=16, bias=True)\n",
      "  )\n",
      ")\n"
     ]
    }
   ],
   "source": [
    "print(model2)"
   ]
  },
  {
   "cell_type": "code",
   "execution_count": 29,
   "metadata": {},
   "outputs": [
    {
     "name": "stdout",
     "output_type": "stream",
     "text": [
      "torch.Size([3, 11])\n",
      "VAE(\n",
      "  (embedding): Embedding(1000, 300)\n",
      "  (input_highway): Sequential(\n",
      "    (0): Linear(in_features=300, out_features=300, bias=True)\n",
      "    (1): ReLU()\n",
      "    (2): Linear(in_features=300, out_features=240, bias=True)\n",
      "    (3): ReLU()\n",
      "    (4): Linear(in_features=240, out_features=180, bias=True)\n",
      "    (5): ReLU()\n",
      "    (6): Linear(in_features=180, out_features=150, bias=True)\n",
      "    (7): ReLU()\n",
      "  )\n",
      "  (encoder): Encoder(\n",
      "    (rnn): RNN(150, 256, num_layers=2, batch_first=True)\n",
      "  )\n",
      "  (lambd): Lambda(\n",
      "    (hidden_to_mean): Linear(in_features=256, out_features=16, bias=True)\n",
      "    (hidden_to_logvar): Linear(in_features=256, out_features=16, bias=True)\n",
      "  )\n",
      "  (decoder): Decoder(\n",
      "    (latent_to_hidden): Linear(in_features=16, out_features=512, bias=True)\n",
      "    (rnn): RNN(300, 256, num_layers=2, batch_first=True)\n",
      "    (output): Linear(in_features=256, out_features=1000, bias=True)\n",
      "  )\n",
      ")\n"
     ]
    }
   ],
   "source": [
    "# Test\n",
    "input = np.array([10,10,12,12,34,12,0,0,0,0,0])\n",
    "input = np.stack([input, input,input])\n",
    "input = torch.from_numpy(input)\n",
    "# Stack input\n",
    "print(input.shape)\n",
    "print(model)\n",
    "model2.to(\"cuda\")\n",
    "\n",
    "output = model2(input.to(\"cuda\"))"
   ]
  },
  {
   "cell_type": "code",
   "execution_count": 17,
   "metadata": {},
   "outputs": [
    {
     "data": {
      "text/plain": [
       "tensor([[495, 829, 747, 232, 747, 747, 747, 747, 747, 747, 747],\n",
       "        [365, 502, 817, 300, 747, 747, 747, 747, 747, 747, 747],\n",
       "        [495, 300, 747, 232, 747, 747, 747, 747, 747, 747, 747]],\n",
       "       device='cuda:0')"
      ]
     },
     "execution_count": 17,
     "metadata": {},
     "output_type": "execute_result"
    }
   ],
   "source": [
    "# Get mostlikely output[0] [3, 11, 1000] -> [3, 11]\n",
    "tokens = torch.argmax(output[0], dim=2)\n",
    "tokens"
   ]
  },
  {
   "cell_type": "code",
   "execution_count": 23,
   "metadata": {},
   "outputs": [
    {
     "data": {
      "text/plain": [
       "torch.Size([3, 11, 2])"
      ]
     },
     "execution_count": 23,
     "metadata": {},
     "output_type": "execute_result"
    }
   ],
   "source": [
    "torch.topk(output[0].exp(), dim=2, k=2)[1].shape"
   ]
  },
  {
   "cell_type": "code",
   "execution_count": 31,
   "metadata": {},
   "outputs": [
    {
     "data": {
      "text/plain": [
       "tensor([[653, 462, 445, 445, 302, 302, 302, 445, 445, 445, 445],\n",
       "        [ 47, 684, 302, 445, 302, 445, 302, 445, 445, 445, 445],\n",
       "        [653, 462, 445, 445, 302, 302, 302, 445, 445, 445, 445]],\n",
       "       device='cuda:0')"
      ]
     },
     "execution_count": 31,
     "metadata": {},
     "output_type": "execute_result"
    }
   ],
   "source": [
    "output = model2(input.to(\"cuda\"))\n",
    "tokens = torch.argmax(output[0], dim=2)\n",
    "tokens"
   ]
  },
  {
   "cell_type": "code",
   "execution_count": null,
   "metadata": {},
   "outputs": [],
   "source": []
  }
 ],
 "metadata": {
  "kernelspec": {
   "display_name": "Python 3.9.15 ('text_anomalies')",
   "language": "python",
   "name": "python3"
  },
  "language_info": {
   "codemirror_mode": {
    "name": "ipython",
    "version": 3
   },
   "file_extension": ".py",
   "mimetype": "text/x-python",
   "name": "python",
   "nbconvert_exporter": "python",
   "pygments_lexer": "ipython3",
   "version": "3.9.15"
  },
  "orig_nbformat": 4,
  "vscode": {
   "interpreter": {
    "hash": "1a22d7e29675f8fd1b549096d8db37fbe830e61846580ec329cc10f0122cf140"
   }
  }
 },
 "nbformat": 4,
 "nbformat_minor": 2
}
